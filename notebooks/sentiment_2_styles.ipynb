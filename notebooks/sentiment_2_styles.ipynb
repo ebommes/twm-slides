{
 "cells": [
  {
   "cell_type": "code",
   "execution_count": 88,
   "metadata": {
    "collapsed": true
   },
   "outputs": [],
   "source": [
    "import re\n",
    "import numpy as np\n",
    "import pickle\n",
    "import pandas as pd\n",
    "from collections import Counter\n",
    "\n",
    "from nltk import tokenize as token\n",
    "import spacy\n",
    "import textacy\n",
    "from textblob import TextBlob\n",
    "\n",
    "from sklearn.model_selection import train_test_split\n",
    "from sklearn.model_selection import GridSearchCV\n",
    "from sklearn.pipeline import Pipeline\n",
    "from sklearn.svm import SVC\n",
    "\n",
    "data_path = '/Users/eb/Google Drive/Research/text_words_meaning/twm-slides/notebooks/data/'"
   ]
  },
  {
   "cell_type": "code",
   "execution_count": 89,
   "metadata": {
    "collapsed": true
   },
   "outputs": [],
   "source": [
    "def spacy_pipe(nlp):\n",
    "    \"\"\"Custom spacy pipeline.\"\"\"\n",
    "    return(nlp.tagger, nlp.parser)\n",
    "\n",
    "\n",
    "def get_lem(doc):\n",
    "    \"\"\"Return lemma of spacy doc if lemma is noun / adjective.\"\"\"\n",
    "    interesting_pos = ('NOUN', 'PROPN', 'ADJ')\n",
    "    lems = [negated_word(word) for word in doc if word.pos_ in interesting_pos]\n",
    "\n",
    "    return lems\n",
    "\n",
    "\n",
    "def get_chunk(noun_chunk):\n",
    "    \"\"\"Return interesting parts of noun chunks.\"\"\"\n",
    "    interesting_pos = ('NOUN', 'PROPN', 'ADJ', 'ADV', 'VERB')\n",
    "    chunk = [tok.lemma_ for tok in noun_chunk if tok.pos_ in interesting_pos]\n",
    "\n",
    "    if len(chunk) > 1:\n",
    "        return '_'.join(chunk)\n",
    "    else:\n",
    "        return ''\n",
    "\n",
    "    \n",
    "def negated_word(token):\n",
    "    if token.pos and any(c.dep_ == 'neg' for c in token.children):\n",
    "        return token.lemma_ + '_NEG'\n",
    "    else:\n",
    "        return token.lemma_\n",
    "\n",
    "def term_list(doc):\n",
    "    \"\"\"Return term list item which is used to create term document matrix.\"\"\"\n",
    "    tl = []\n",
    "\n",
    "    # lemmata of nouns and adjectives\n",
    "    tl.extend(get_lem(doc))\n",
    "\n",
    "    # noun chunks\n",
    "    chunks = [get_chunk(chunk) for chunk in doc.noun_chunks]\n",
    "    chunks = [chunk for chunk in chunks if chunk]\n",
    "    tl.extend(chunks)\n",
    "\n",
    "    return tl\n",
    "\n",
    "\n",
    "def accuracy(pred, actual):\n",
    "    \"\"\"Calculate accuracy of predictions.\"\"\"\n",
    "    return sum(pred == actual) / len(pred)\n",
    "\n",
    "\n",
    "def count_sentiment_words(tokens, lexicon):\n",
    "    count = Counter(tokens)\n",
    "    count = {key: count[key] for key in count if key in lexicon}\n",
    "    return sum(list(count.values()))\n",
    "\n",
    "\n",
    "def label_sentiment(review, lexica):\n",
    "    tokens = [re.sub('[^A-Za-z]+', ' ', token)\n",
    "              for token in token.word_tokenize(review)]\n",
    "\n",
    "    n_token = len(tokens)\n",
    "    n_positive = count_sentiment_words(tokens, lexica['positive'])\n",
    "    n_negative = count_sentiment_words(tokens, lexica['negative'])\n",
    "    fract_positive = n_positive / n_token\n",
    "    fract_negative = n_negative / n_token\n",
    "    \n",
    "    if fract_positive > fract_negative:\n",
    "        return 1\n",
    "    else:\n",
    "        return -1"
   ]
  },
  {
   "cell_type": "code",
   "execution_count": 16,
   "metadata": {
    "collapsed": true
   },
   "outputs": [],
   "source": [
    "seed = 123\n",
    "n_keep = 3000\n",
    "\n",
    "beer_reviews = pickle.load(open(data_path + '2_styles_sample.p', 'rb'))"
   ]
  },
  {
   "cell_type": "code",
   "execution_count": 21,
   "metadata": {},
   "outputs": [],
   "source": [
    "# too much data. keep 2000 highest and 2000 lowest ratings\n",
    "review_dict = [{'rating': meta['rating'], 'text': text}\n",
    "               for meta, text in zip(beer_reviews[0], beer_reviews[1])]\n",
    "df = pd.DataFrame(review_dict).sort_values(by='rating').reset_index(drop=True)\n",
    "df = df.head(n_keep).append(df.tail(n_keep)).reset_index(drop=True)\n",
    "df['sentiment'] = pd.Series([-1] * n_keep + [1] * n_keep)"
   ]
  },
  {
   "cell_type": "code",
   "execution_count": 50,
   "metadata": {},
   "outputs": [],
   "source": [
    "reviews = df['text'].tolist()\n",
    "rating = df['sentiment'].tolist()"
   ]
  },
  {
   "cell_type": "code",
   "execution_count": 25,
   "metadata": {},
   "outputs": [],
   "source": [
    "nlp = spacy.load('en', create_pipeline=spacy_pipe)\n",
    "texts = [doc for doc in nlp.pipe(reviews, n_threads=-1)]\n",
    "\n",
    "# some additional pre-processing\n",
    "texts = [' '.join(term_list(doc)) for doc in texts]"
   ]
  },
  {
   "cell_type": "code",
   "execution_count": 45,
   "metadata": {},
   "outputs": [
    {
     "data": {
      "text/plain": [
       "46208"
      ]
     },
     "execution_count": 45,
     "metadata": {},
     "output_type": "execute_result"
    }
   ],
   "source": [
    "count_words = [doc.split(' ') for doc in texts]\n",
    "count_words = [item for sublist in count_words for item in sublist]\n",
    "len(Counter(count_words))"
   ]
  },
  {
   "cell_type": "code",
   "execution_count": 79,
   "metadata": {},
   "outputs": [
    {
     "name": "stderr",
     "output_type": "stream",
     "text": [
      "/Users/eb/.pyenv/versions/3.6.1/lib/python3.6/site-packages/sklearn/decomposition/online_lda.py:294: DeprecationWarning: n_topics has been renamed to n_components in version 0.19 and will be removed in 0.21\n",
      "  DeprecationWarning)\n"
     ]
    },
    {
     "name": "stdout",
     "output_type": "stream",
     "text": [
      "topic 0 : caramel   sweet   amber   head smell   taste sweet   chocolate caramel   caramel malt   candy   thin   sweet caramel\n",
      "topic 1 : lace smell   small   spotty   goodness   lace   sour   chance   small white   brewery   carbonation smooth\n",
      "topic 2 : depth   exceptional   beer perfect   thick mouthfeel   carbonation perfect   cloud   pours pitch   robust flavor   smell great   little coffee\n",
      "topic 3 : silky   s-   m-   a-   bitter hop   just_hint   o-   family   crispness   book\n",
      "topic 4 : nice   note   malty   head head   chocolatey   head nice   color nice   sticky   brown body   note taste\n",
      "topic 5 : excellent   fruity   beer   summer   real   light beer   beer taste   sense   company   500ml\n",
      "topic 6 : lemon   similar   biscuit   lime   tequila   citrus   soda   small head   hop malt   odd\n",
      "topic 7 : wonderful   night   special   beer   texture   -pron-   -pron- beer   extra   quality   kind\n",
      "topic 8 : mix   f   l   glass beer   pale golden   cigar   dirty   body smooth   chalky   dank\n",
      "topic 9 : sweet malt   day   sweet   hot   malt taste   nice   sweet_malt   malt   gold   body good\n",
      "topic 10 : roast grain   ml bottle   chocolate finish   big chocolate   creamy chocolate   ml_bottle   courtesy   nice aroma   ccb   porter big\n",
      "topic 11 : standard   layer   slight   trace   bit   malt slight   little carbonation   bit hop   thin layer   thin ring\n",
      "topic 12 : pitch   pitch black   strong   opinion   glass smell   -pron- opinion   undertone   -pron-_opinion   lot   lacing\n",
      "topic 13 : barley   d   t   m   s   bomber   stuff   good thing   sessionable   coffee t\n",
      "topic 14 : malt flavor   craft   people   pure   craft beer   cloying   example   beer   color dark   fake\n",
      "topic 15 : complexity   red   funky   highlight   smoothness   dark dark   ground   hazelnut   coffee ground   retention good\n",
      "topic 16 : macro   pilsner   fine   macro lager   lager   pilsner glass   fair   crisp   straw   pilsner_glass\n",
      "topic 17 : bittersweet   bittersweet chocolate   taste great   flavor great   bittersweet_chocolate   aroma roasted   jackie   bourbon maple   jackie o   balance flavor\n",
      "topic 18 : grapefruit   excellent beer   chocolate light   baker chocolate   maple bacon   beer big   excellent_beer   t chocolate   huge thank   coco\n",
      "topic 19 : adjunct   lager   rice   yeast   pour clear   adjunct lager   poor   corn   clear   clear pale\n",
      "topic 20 : espresso   great beer   balanced   great_beer   flavour   great   cake   phenomenal   smell malt   average\n",
      "topic 21 : khaki   khaki head   dense   mild carbonation   smooth   smooth mouthfeel   delightful   ample   recent   big thank\n",
      "topic 22 : backbone   abby   jack abby   malt backbone   awesome beer   medium medium   smoked   luscious   s lot   lot\n",
      "topic 23 : little bit   bit   mocha head   oatmeal   little_bit   mocha   little   spot   big   dark roasted\n",
      "topic 24 : finger head   hand   smell taste   man   good carbonation   finger   finger_head   mouthfeel smooth   smell   dark_malt\n",
      "topic 25 : like   refreshing   soft   bold   line   wrong   citrusy   fact   basic   lemony\n",
      "topic 26 : low   low carbonation   pretty   low_carbonation   store   smell   beer   drinkability   appearance pour   mouthfeel\n",
      "topic 27 : cocoa   american porter   hype   american   light moderate   mineral   chocolate cocoa   cocoa coffee   american_porter   coffee cocoa\n",
      "topic 28 : fan   doughnut   vanilla taste   flavor mouthfeel   light lager   residual   body nice   cola   attractive   beer strong\n",
      "topic 29 : bodied   thin   syrupy   cracker   little   watery   thin white   weak   head little   stale\n",
      "topic 30 : funky buddha   vintage   acidic   funky_buddha   cookie   juicy   black_color   chocolate little   flavor little   berry\n",
      "topic 31 : light   taste   hop   light malt   chocolate taste   taste light   color   light body   beer light   ounce\n",
      "topic 32 : maple   smoke   bacon   good porter   syrup   maple syrup   good_porter   smoky   smokey   smokiness\n",
      "topic 33 : foamy   cheer   tad   foamy head   weird   t-   bit   taste nice   sweet bitter   restaurant\n",
      "topic 34 : farmstead   hill farmstead   great porter   hill_farmstead   great_porter   500ml bottle   joy   500ml_bottle   bomb   buddha\n",
      "topic 35 : incredible   oil   flavor nice   fresh coffee   earthiness   tan foam   note dark   beer coffee   caramel vanilla   good stuff\n",
      "topic 36 : thank   tasty   honey   orange   initial   ba   taste   taste nose   guinness   beer\n",
      "topic 37 : pint   pint glass   pint_glass   glass   good beer   bottle pint   good_beer   beer   short   maltiness\n",
      "topic 38 : fresh   hill   cup   tropical   glass appearance   creamy head   good_amount   retention   decent   head decent\n",
      "topic 39 : milk   milk chocolate   peanut   butter   peanut butter   chocolate   milk_chocolate   toasty   peanut_butter   dark_brown\n",
      "topic 40 : year   session   bar   beer   session beer   -pron-   sushi   ipl   mouthfeel good   good\n",
      "topic 41 : pecan   start   sweet maple   rich coffee   maple sweetness   chocolate bitterness   most_porter   thick black   medium bodied   pour deep\n",
      "topic 42 : fruit   dark fruit   dark_fruit   dark   chewy   baker   brewing   area   hop profile   great flavor\n",
      "topic 43 : hue   tobacco   thin head   roasted_grain   light aroma   mixture   grain   roasted grain   thin_head   golden hue\n",
      "topic 44 : review   everett   batch   vanilla chocolate   notch   twilight   honey   chocolate nose   black head   zest\n",
      "topic 45 : crazy   usual   just_touch   caramel toffee   high abv   level   level carbonation   effect   light bitterness   milkshake\n",
      "topic 46 : earthy   awesome   oz   earthy hop   oz bottle   mellow   traditional   hop   date   beer flavor\n",
      "topic 47 : s   t   o   m   dry   dry finish   lace s   head s   finish   m medium\n",
      "topic 48 : bright   green   decent   light   light yellow   skunky   visible   bland   moderate_amount   carbonation medium\n",
      "topic 49 : tap   little   golden color   golden   clear golden   easy   drinker   color   little head   element\n",
      "topic 50 : cinnamon   date   dark roast   great   -pron-_favorite   freshness   great taste   anise   taste dark   freshness date\n",
      "topic 51 : profile   bite   drinking   high   flavor profile   easy drinking   high carbonation   easy   round   flavor_profile\n",
      "topic 52 : wine   able   world class   premium   yuengl   release   word   -pron-   delicate   generic\n",
      "topic 53 : fantastic   price   worth   true   beer   fantastic beer   memory   sixer   beer worth   fantastic_beer\n",
      "topic 54 : perfect   coffee dark   deep dark   chocolate hint   porter flavor   chocolate sweet   aroma dark   black brown   gentle   s chocolate\n",
      "topic 55 : regular   rich creamy   chocolate espresso   coffee coffee   walnut   taste coconut   espresso bean   porter rich   delicious porter   nice roasted\n",
      "topic 56 : pale   lager   pale lager   pale malt   beer   hop   experience   case   beer nice   -pron-\n",
      "topic 57 : herbal   tasting   age   aspect   herbal hop   perfection   combination   good mouthfeel   beer   malt smell\n",
      "topic 58 : friend   smooth creamy   nut   mahogany   flavor chocolate   -pron-   dominant   -pron- friend   sauce   stone\n",
      "topic 59 : plum   porter lot   prune   all_flavor   roasted flavor   dark mahogany   finish smooth   rare   alcohol burn   flavor feel\n",
      "topic 60 : solid   chocolate note   offering   powder   little thin   nitro   cocoa powder   nuttiness   hell   shake\n",
      "topic 61 : medium   bourbon   medium body   barrel   medium carbonation   background   body   mouthfeel medium   carbonation   medium_body\n",
      "topic 62 : aggressive   warmth   straight   cooler   buy   day   sweet finish   bill   aggressive pour   head small\n",
      "topic 63 : fudge   linger   brownie   nose nice   chocolate molass   chocolate fudge   chocolate good   smoke roast   bourbon_barrel   t coffee\n",
      "topic 64 : amazing beer   coconut coffee   mound   coconut flavor   amazing_beer   cigar city   finger dark   mound bar   port   great nose\n",
      "topic 65 : cap   toast   month   buttery   body creamy   size   vanilla caramel   sized   m- medium   retention\n",
      "topic 66 : floral   grass   grain   yellow   head good   pale   pale yellow   white   floral hop   good retention\n",
      "topic 67 : hf   noticeable   place   great balance   tulip   great_balance   creamy texture   duvel   savory   sweet sweet\n",
      "topic 68 : tone   campfire   chocolate toffee   velvety smooth   fff   stem   flavor rich   big beer   porter fan   rich sweet\n",
      "topic 69 : coffee   chocolate   dark   porter   black   vanilla   roast   brown   coconut   roasted\n",
      "topic 70 : rich   pumpkin   spice   oak   blend   malt chocolate   imperial   present   chocolate   nutmeg\n",
      "topic 71 : interesting   american   refresh   classic   adam   lager   draft   american lager   sam   fridge\n",
      "topic 72 : clean   simple   character   boring   clean finish   malt bit   normal   yeast   general   hop character\n",
      "topic 73 : hop   crisp   clean   hop flavor   malt   malt hint   malt hop   crisp clean   pil   happy\n",
      "topic 74 : pine   ipa   hoppy   hop   smell coffee   piney   black body   nice   bottle snifter   fitzgerald\n",
      "topic 75 : cold   warm   long   food   taste good   available   beer   room   spicy   time\n",
      "topic 76 : beautiful   frothy   class   beige   brew   bad beer   slight hint   beige head   dose   beer\n",
      "topic 77 : inch   tulip   hoppiness   inch head   tulip glass   finish mouthfeel   bottle tulip   tulip_glass   good -pron-   modest\n",
      "topic 78 : moderate   heavy   edge   super   nutty   moderate carbonation   finger   carbonation   moderate_carbonation   sweetness\n",
      "topic 79 : grassy   typical   half   grassy hop   half finger   apple   fizzy   finger   grassy_hop   hop\n",
      "topic 80 : jet   jet black   coffee beer   strong coffee   taste coffee   chocolate coconut   coffee hint   black dark   lot chocolate   thick tan\n",
      "topic 81 : grainy   outstanding   bitterness finish   cool   corn   bitterness   nose taste   touch   michelob   grainy malt\n",
      "topic 82 : silky smooth   note chocolate   center   mint   coffee coconut   ibu   coffee cream   coffee nose   finish nice   sweet roasted\n",
      "topic 83 : shiner   -pron- mouth   blonde   -pron-_mouth   unique   -pron-   expectation   american   course   american pale\n",
      "topic 84 : imperial porter   morning   chocolate bit   excellent porter   chocolate sweetness   chocolate cake   vanilla bourbon   chocolate t   taste rich   bourbon oak\n",
      "topic 85 : -pron-   stout   style   brewer   work   point   beer   rating   creamy mouthfeel   fine\n",
      "topic 86 : sugar   brown   brown sugar   light brown   boozy   raisin   good   beer   character   flavor\n",
      "topic 87 : citrus   average   light carbonation   level   look   body light   bubbly   porter great   light_carbonation   light\n",
      "topic 88 : bready   breakfast   metallic   fluffy   white   hop   aroma   white head   wheat   hop presence\n",
      "topic 89 : local   -pron- glass   sweet corn   bottle   -pron-_glass   glass   flavor smooth   aroma hint   bunch   surprising\n",
      "topic 90 : bean   coffee bean   head aroma   upfront   vanilla   flat   small   vanilla bean   glass aroma   color small\n",
      "topic 91 : molass   pours   imperial   char   apparent   pours dark   burn   fall   black small   clove\n",
      "topic 92 : complex   minimal   semi   beer good   smell sweet   sweet   malt t   minimal head   semi sweet   beer lot\n",
      "topic 93 : hint vanilla   idea   full_body   smell dark   ballast   ballast point   breakfast stout   aroma nice   vanilla coconut   devil\n",
      "topic 94 : pleasant   mind   ok   malt note   bitter sweet   carmel   roasty coffee   evil   twin   attention\n",
      "topic 95 : mild   version   tongue   non   impressive   try   grainy   strange   mild hop   sweet\n",
      "topic 96 : black coffee   bitter chocolate   bitter dark   black_coffee   smooth medium   flavor porter   intense   chocolate bitter   coffee toffee   chocolate touch\n",
      "topic 97 : new   pack   winter   -pron-   world   single   variety   bell   beer   score\n",
      "topic 98 : offensive   ice   bitter aftertaste   cream   ml   molson   palate   ice cream   oat   r\n",
      "topic 99 : favorite   -pron- favorite   -pron-   drink   dessert   hard   beer   type   carbonated   okay\n"
     ]
    }
   ],
   "source": [
    "# Use dimension reduction\n",
    "texty_texts = textacy.Corpus('en', texts=texts)\n",
    "tl_textacy = (doc.to_terms_list(ngrams=(1, 2), named_entities=True, as_strings=True) \n",
    "              for doc in texty_texts)\n",
    "\n",
    "vec_specs = {'weighting': 'tfidf',\n",
    "             'normalize': 'True',\n",
    "             'smooth_idf': 'True',\n",
    "             'min_df': 5,\n",
    "             'max_df': 0.95}\n",
    "vectorizer = textacy.Vectorizer(**vec_specs)\n",
    "doc_term_matrix = vectorizer.fit_transform(tl_textacy)\n",
    "\n",
    "model = textacy.tm.TopicModel('lda', n_topics=100, random_state=seed)\n",
    "model.fit(doc_term_matrix)\n",
    "\n",
    "doc_topic_matrix = model.transform(doc_term_matrix)\n",
    "\n",
    "for topic_idx, top_terms in model.top_topic_terms(vectorizer.id_to_term):\n",
    "    print('topic', topic_idx, ':', '   '.join(top_terms))"
   ]
  },
  {
   "cell_type": "code",
   "execution_count": 80,
   "metadata": {
    "collapsed": true
   },
   "outputs": [],
   "source": [
    "# Split in train and test\n",
    "X_train, X_test, y_train, y_test = train_test_split(\n",
    "    doc_topic_matrix, rating, test_size=0.33, random_state=seed)"
   ]
  },
  {
   "cell_type": "code",
   "execution_count": 81,
   "metadata": {
    "scrolled": true
   },
   "outputs": [
    {
     "name": "stdout",
     "output_type": "stream",
     "text": [
      "Fitting 3 folds for each of 24 candidates, totalling 72 fits\n"
     ]
    },
    {
     "name": "stderr",
     "output_type": "stream",
     "text": [
      "[Parallel(n_jobs=3)]: Done  44 tasks      | elapsed:   43.4s\n",
      "[Parallel(n_jobs=3)]: Done  72 out of  72 | elapsed:  1.3min finished\n"
     ]
    },
    {
     "name": "stdout",
     "output_type": "stream",
     "text": [
      "Best score: 0.857\n"
     ]
    }
   ],
   "source": [
    "parameters = {'clf__kernel': ('rbf', 'poly', 'linear', 'sigmoid'),\n",
    "              'clf__gamma': ('auto', 1),\n",
    "              'clf__C': (10, 1.0, 0.1)}\n",
    "\n",
    "piper = Pipeline([('clf', SVC(random_state=seed))])\n",
    "\n",
    "grid_search = GridSearchCV(piper, parameters, n_jobs=3, verbose=1,\n",
    "                           refit=True, cv=3)\n",
    "\n",
    "grid_search.fit(X_train, y_train)\n",
    "\n",
    "print('Best score: %0.3f' % grid_search.best_score_)"
   ]
  },
  {
   "cell_type": "code",
   "execution_count": 82,
   "metadata": {},
   "outputs": [
    {
     "name": "stdout",
     "output_type": "stream",
     "text": [
      "Predicted   -1    1\n",
      "True               \n",
      "-1         842  139\n",
      " 1         116  883\n",
      "Accuracy in test set: 0.871\n"
     ]
    }
   ],
   "source": [
    "y_pred = grid_search.predict(X_test)\n",
    "res = pd.DataFrame({'y_test': pd.Series(y_test)})\n",
    "res['y_pred'] = y_pred\n",
    "\n",
    "\n",
    "print(pd.crosstab(res['y_test'], res['y_pred'], rownames=['True'],\n",
    "                  colnames=['Predicted']))\n",
    "print('Accuracy in test set: %0.3f' % accuracy(res['y_pred'], res['y_test']))"
   ]
  },
  {
   "cell_type": "code",
   "execution_count": 83,
   "metadata": {},
   "outputs": [
    {
     "data": {
      "text/plain": [
       "<bound method Pipeline.get_params of Pipeline(memory=None,\n",
       "     steps=[('clf', SVC(C=10, cache_size=200, class_weight=None, coef0=0.0,\n",
       "  decision_function_shape='ovr', degree=3, gamma=1, kernel='rbf',\n",
       "  max_iter=-1, probability=False, random_state=123, shrinking=True,\n",
       "  tol=0.001, verbose=False))])>"
      ]
     },
     "execution_count": 83,
     "metadata": {},
     "output_type": "execute_result"
    }
   ],
   "source": [
    "grid_search.best_estimator_.get_params"
   ]
  },
  {
   "cell_type": "markdown",
   "metadata": {},
   "source": [
    "### Check BL as Comparison"
   ]
  },
  {
   "cell_type": "code",
   "execution_count": 91,
   "metadata": {},
   "outputs": [],
   "source": [
    "lexica = {\n",
    "    sentiment: open(data_path + 'bl_%s.txt' % sentiment, encoding='utf-8',\n",
    "                    errors='ignore').read().splitlines()\n",
    "    for sentiment in ['positive', 'negative']\n",
    "}\n",
    "\n",
    "df['bl_pred'] = [label_sentiment(text, lexica)\n",
    "                     for text in df['text']]"
   ]
  },
  {
   "cell_type": "code",
   "execution_count": 93,
   "metadata": {},
   "outputs": [
    {
     "name": "stdout",
     "output_type": "stream",
     "text": [
      "Predicted    -1     1\n",
      "True                 \n",
      "-1         1023  1977\n",
      " 1          403  2597\n",
      "Accuracy in test set: 0.603\n"
     ]
    }
   ],
   "source": [
    "print(pd.crosstab(df['sentiment'], df['bl_pred'], rownames=['True'],\n",
    "                  colnames=['Predicted']))\n",
    "print('Accuracy in test set: %0.3f' % accuracy(df['sentiment'], df['bl_pred']))"
   ]
  }
 ],
 "metadata": {
  "kernelspec": {
   "display_name": "Python 3",
   "language": "python",
   "name": "python3"
  },
  "language_info": {
   "codemirror_mode": {
    "name": "ipython",
    "version": 3
   },
   "file_extension": ".py",
   "mimetype": "text/x-python",
   "name": "python",
   "nbconvert_exporter": "python",
   "pygments_lexer": "ipython3",
   "version": "3.6.1"
  }
 },
 "nbformat": 4,
 "nbformat_minor": 2
}
