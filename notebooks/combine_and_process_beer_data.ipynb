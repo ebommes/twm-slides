{
 "cells": [
  {
   "cell_type": "code",
   "execution_count": 2,
   "metadata": {
    "collapsed": true
   },
   "outputs": [],
   "source": [
    "import pickle\n",
    "import json\n",
    "import hashlib\n",
    "data_path = '/Users/eb/Google Drive/Research/text_words_meaning/twm-slides/notebooks/data/'"
   ]
  },
  {
   "cell_type": "code",
   "execution_count": 3,
   "metadata": {
    "collapsed": true
   },
   "outputs": [],
   "source": [
    "with open(data_path + 'data_part_1.json', 'r') as f:\n",
    "    part1 = json.load(f)\n",
    "\n",
    "with open(data_path + 'data_part_2.json', 'r') as f:\n",
    "    part2 = json.load(f)\n",
    "\n",
    "with open(data_path + 'data_part_3.json', 'r') as f:\n",
    "    part3 = json.load(f)"
   ]
  },
  {
   "cell_type": "code",
   "execution_count": 4,
   "metadata": {
    "collapsed": true
   },
   "outputs": [],
   "source": [
    "part1 = {k: part1[k] for k in part1.keys() if part1[k]}\n",
    "part2 = {k: part2[k] for k in part2.keys() if part2[k]}\n",
    "part3 = {k: part3[k] for k in part3.keys() if part3[k]}"
   ]
  },
  {
   "cell_type": "code",
   "execution_count": 5,
   "metadata": {
    "collapsed": true
   },
   "outputs": [],
   "source": [
    "data = {}\n",
    "data.update(part1)\n",
    "data.update(part2)\n",
    "data.update(part3)"
   ]
  },
  {
   "cell_type": "code",
   "execution_count": 6,
   "metadata": {},
   "outputs": [
    {
     "data": {
      "text/plain": [
       "[5328, 2381, 5327, 6651, 6814, 5327, 6651, 1002]"
      ]
     },
     "execution_count": 6,
     "metadata": {},
     "output_type": "execute_result"
    }
   ],
   "source": [
    "[len(data[k]) for k in data.keys()]"
   ]
  },
  {
   "cell_type": "code",
   "execution_count": 7,
   "metadata": {
    "collapsed": true
   },
   "outputs": [],
   "source": [
    "with open(data_path + 'data.json', 'w') as f:\n",
    "    part1 = json.dump(data, f)"
   ]
  },
  {
   "cell_type": "code",
   "execution_count": 8,
   "metadata": {
    "collapsed": true
   },
   "outputs": [],
   "source": [
    "# quick and dirty re-ordering\n",
    "beer_reviews = []\n",
    "for key in data.keys():\n",
    "    for d in data[key]:\n",
    "        d['style'] = key\n",
    "        beer_reviews.append(d)"
   ]
  },
  {
   "cell_type": "code",
   "execution_count": 9,
   "metadata": {
    "collapsed": true
   },
   "outputs": [],
   "source": [
    "# hash as id\n",
    "for d in beer_reviews:\n",
    "    d['id'] = hash(frozenset(d.items()))"
   ]
  },
  {
   "cell_type": "code",
   "execution_count": 10,
   "metadata": {
    "collapsed": true
   },
   "outputs": [],
   "source": [
    "pickle.dump(beer_reviews, open(data_path + 'data.p', 'wb'))"
   ]
  }
 ],
 "metadata": {
  "kernelspec": {
   "display_name": "Python 3",
   "language": "python",
   "name": "python3"
  },
  "language_info": {
   "codemirror_mode": {
    "name": "ipython",
    "version": 3
   },
   "file_extension": ".py",
   "mimetype": "text/x-python",
   "name": "python",
   "nbconvert_exporter": "python",
   "pygments_lexer": "ipython3",
   "version": "3.6.1"
  }
 },
 "nbformat": 4,
 "nbformat_minor": 2
}
