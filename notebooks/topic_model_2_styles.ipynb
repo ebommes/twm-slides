{
 "cells": [
  {
   "cell_type": "code",
   "execution_count": 222,
   "metadata": {
    "collapsed": true
   },
   "outputs": [],
   "source": [
    "import re\n",
    "import numpy as np\n",
    "import pickle\n",
    "import pandas as pd\n",
    "from collections import Counter\n",
    "\n",
    "import spacy\n",
    "import textacy\n",
    "from textblob import TextBlob\n",
    "\n",
    "from sklearn.model_selection import GridSearchCV\n",
    "from sklearn.model_selection import train_test_split\n",
    "from sklearn.pipeline import Pipeline\n",
    "from sklearn.svm import SVC\n",
    "\n",
    "data_path = '/Users/eb/Google Drive/Research/text_words_meaning/twm-slides/notebooks/data/'"
   ]
  },
  {
   "cell_type": "code",
   "execution_count": 280,
   "metadata": {
    "collapsed": true
   },
   "outputs": [],
   "source": [
    "def spacy_pipe(nlp):\n",
    "    \"\"\"Custom spacy pipeline.\"\"\"\n",
    "    return(nlp.tagger, nlp.parser)\n",
    "\n",
    "def get_lem(doc):\n",
    "    \"\"\"Return lemma of spacy doc if lemma is noun / adjective.\"\"\"\n",
    "    interesting_pos = ('NOUN', 'PROPN', 'ADJ')\n",
    "    lems = [word.lemma_ for word in doc if word.pos_ in interesting_pos]\n",
    "\n",
    "    return lems\n",
    "\n",
    "\n",
    "def get_chunk(noun_chunk):\n",
    "    \"\"\"Return interesting parts of noun chunks.\"\"\"\n",
    "    interesting_pos = ('NOUN', 'PROPN', 'ADJ', 'ADV', 'VERB')\n",
    "    chunk = [tok.lemma_ for tok in noun_chunk if tok.pos_ in interesting_pos]\n",
    "\n",
    "    if len(chunk) > 1:\n",
    "        return ' '.join(chunk)\n",
    "    else:\n",
    "        return ''\n",
    "\n",
    "\n",
    "def term_list(doc):\n",
    "    \"\"\"Return term list item which is used to create term document matrix.\"\"\"\n",
    "    tl = []\n",
    "\n",
    "    # lemmata of nouns and adjectives\n",
    "    tl.extend(get_lem(doc))\n",
    "\n",
    "    # noun chunks\n",
    "    chunks = [get_chunk(chunk) for chunk in doc.noun_chunks]\n",
    "    chunks = [chunk for chunk in chunks if chunk]\n",
    "    tl.extend(chunks)\n",
    "\n",
    "    return tl\n",
    "\n",
    "def get_top_topic(model, doc_topic_matrix):\n",
    "    \"\"\"Return top topic of estimated topic model.\"\"\"\n",
    "    top_topics = model.top_doc_topics(doc_topic_matrix, top_n=1)\n",
    "    top_topics = [topics[0] for doc_idx, topics in top_topics]\n",
    "    return top_topics\n"
   ]
  },
  {
   "cell_type": "code",
   "execution_count": 224,
   "metadata": {
    "collapsed": true
   },
   "outputs": [],
   "source": [
    "seed = 123"
   ]
  },
  {
   "cell_type": "code",
   "execution_count": 226,
   "metadata": {
    "collapsed": true
   },
   "outputs": [],
   "source": [
    "beer_reviews = pickle.load(open(data_path + '2_styles_sample.p', 'rb'))"
   ]
  },
  {
   "cell_type": "code",
   "execution_count": null,
   "metadata": {
    "collapsed": true
   },
   "outputs": [],
   "source": [
    "# Load spacy pipeline for English\n",
    "nlp = spacy.load('en', create_pipeline=spacy_pipe)\n",
    "\n",
    "# parse via pipeline\n",
    "texts = [doc for doc in nlp.pipe(beer_reviews[1], n_threads=-1)]"
   ]
  },
  {
   "cell_type": "code",
   "execution_count": 253,
   "metadata": {
    "collapsed": true
   },
   "outputs": [],
   "source": [
    "# some additional pre-processing\n",
    "tl = [' '.join(term_list(doc)) for doc in texts]"
   ]
  },
  {
   "cell_type": "code",
   "execution_count": 254,
   "metadata": {
    "collapsed": true
   },
   "outputs": [],
   "source": [
    "texty_texts = textacy.Corpus('en', texts=tl)"
   ]
  },
  {
   "cell_type": "markdown",
   "metadata": {},
   "source": [
    "### Topic Modeling"
   ]
  },
  {
   "cell_type": "code",
   "execution_count": 277,
   "metadata": {},
   "outputs": [
    {
     "name": "stdout",
     "output_type": "stream",
     "text": [
      "topic 0 : light   malt   nice   s   t   beer   head   good   hop   m\n",
      "topic 1 : lager   butter   beer   taste   light   -pron-   bad   corn   pale   yellow\n",
      "topic 2 : chocolate   coffee   dark   porter   roast   brown   black   roasted   flavor   vanilla\n",
      "topic 3 : -pron-   beer   pumpkin   brew   first   time   good   new   great   smokey\n",
      "topic 4 : hop   light   malt   citrus   lager   earthy   floral   note   white   finish\n"
     ]
    }
   ],
   "source": [
    "tl_textacy = (doc.to_terms_list(ngrams=1, named_entities=True, as_strings=True) \n",
    "              for doc in texty_texts)\n",
    "\n",
    "vec_specs = {'weighting': 'tfidf',\n",
    "             'normalize': 'True',\n",
    "             'smooth_idf': 'True',\n",
    "             'min_df': 5,\n",
    "             'max_df': 0.95}\n",
    "vectorizer = textacy.Vectorizer(**vec_specs)\n",
    "doc_term_matrix = vectorizer.fit_transform(tl_textacy)\n",
    "\n",
    "model = textacy.tm.TopicModel('lda', n_topics=5, random_state=123)\n",
    "model.fit(doc_term_matrix)\n",
    "\n",
    "doc_topic_matrix = model.transform(doc_term_matrix)\n",
    "\n",
    "for topic_idx, top_terms in model.top_topic_terms(vectorizer.id_to_term):\n",
    "    print('topic', topic_idx, ':', '   '.join(top_terms))"
   ]
  },
  {
   "cell_type": "code",
   "execution_count": 278,
   "metadata": {},
   "outputs": [
    {
     "name": "stdout",
     "output_type": "stream",
     "text": [
      "top_topic               0     1     2     3     4\n",
      "style_name                                       \n",
      "American Pale Lager  1163  2225    29   665  2768\n",
      "American Porter      1004   324  8012  1469   366\n"
     ]
    },
    {
     "data": {
      "image/png": "[encoded data removed]",
      "text/plain": [
       "<matplotlib.figure.Figure at 0x17233ce10>"
      ]
     },
     "metadata": {},
     "output_type": "display_data"
    }
   ],
   "source": [
    "df = pd.DataFrame(doc_topic_matrix)\n",
    "df['style_name'] = [d['style_name'] for d in beer_reviews[0]]\n",
    "df['top_topic'] = get_top_topic(model, doc_topic_matrix)\n",
    "\n",
    "print(pd.crosstab(df['style_name'], df['top_topic']))\n",
    "\n",
    "ct = pd.crosstab(df['top_topic'], df['style_name'])\n",
    "ct = ct.apply(lambda r: r / r.sum(), axis=1)\n",
    "\n",
    "beer_plot = ct.plot.bar(stacked=True, color=['#ead61c', '#845422'],\n",
    "                        edgecolor='none', lw=2, rot=0, figsize=(7, 6))\n",
    "beer_plot.set_xlabel('Topic')\n",
    "beer_plot.set_ylabel('Frequency (%)')\n",
    "beer_plot.legend(bbox_to_anchor=(1.12, 1.12))\n",
    "\n",
    "plt.show()"
   ]
  },
  {
   "cell_type": "code",
   "execution_count": 279,
   "metadata": {
    "collapsed": true
   },
   "outputs": [],
   "source": [
    "ct.to_csv(data_path + '2_styles_top_topic_1gram_xtab.csv')\n",
    "df.to_csv(data_path + '2_styles_doc_topic_1gram_matrix.csv')"
   ]
  },
  {
   "cell_type": "code",
   "execution_count": 276,
   "metadata": {
    "collapsed": true
   },
   "outputs": [],
   "source": [
    "# 2-grams"
   ]
  },
  {
   "cell_type": "code",
   "execution_count": 255,
   "metadata": {
    "collapsed": true
   },
   "outputs": [],
   "source": [
    "tl_textacy = (doc.to_terms_list(ngrams=2, named_entities=True, as_strings=True) \n",
    "              for doc in texty_texts)\n",
    "\n",
    "vec_specs = {'weighting': 'tfidf',\n",
    "             'normalize': 'True',\n",
    "             'smooth_idf': 'True',\n",
    "             'min_df': 5,\n",
    "             'max_df': 0.95}\n",
    "vectorizer = textacy.Vectorizer(**vec_specs)\n",
    "doc_term_matrix = vectorizer.fit_transform(tl_textacy)"
   ]
  },
  {
   "cell_type": "code",
   "execution_count": 266,
   "metadata": {
    "collapsed": true
   },
   "outputs": [],
   "source": [
    "model = textacy.tm.TopicModel('lda', n_topics=5, random_state=123)\n",
    "model.fit(doc_term_matrix)"
   ]
  },
  {
   "cell_type": "code",
   "execution_count": 267,
   "metadata": {
    "collapsed": true
   },
   "outputs": [],
   "source": [
    "doc_topic_matrix = model.transform(doc_term_matrix)"
   ]
  },
  {
   "cell_type": "code",
   "execution_count": 268,
   "metadata": {},
   "outputs": [
    {
     "name": "stdout",
     "output_type": "stream",
     "text": [
      "topic 0 : tan head   dark fruit   dark brown   roast malt   brown color   roasted malt   pint glass   medium body   brown sugar   light brown\n",
      "topic 1 : dark chocolate   roasted malt   peanut butter   milk chocolate   tan head   dark brown   roast malt   roasted coffee   coffee flavor   coffee bean\n",
      "topic 2 : white head   light body   pale lager   macro lager   sweet malt   yellow color   pint glass   small head   pumpkin beer   little head\n",
      "topic 3 : white head   floral hop   earthy hop   hop flavor   pale malt   bready malt   citrus hop   herbal hop   grassy hop   medium body\n",
      "topic 4 : pint glass   good beer   half   half finger   white head   first   beer -pron-   little bit   finger head   -pron- way\n"
     ]
    }
   ],
   "source": [
    "for topic_idx, top_terms in model.top_topic_terms(vectorizer.id_to_term):\n",
    "    print('topic', topic_idx, ':', '   '.join(top_terms))"
   ]
  },
  {
   "cell_type": "code",
   "execution_count": 269,
   "metadata": {},
   "outputs": [
    {
     "name": "stdout",
     "output_type": "stream",
     "text": [
      "top_topic               0     1     2     3     4\n",
      "style_name                                       \n",
      "American Pale Lager   186    83  1615  2346  2620\n",
      "American Porter      4645  5501   255   233   541\n"
     ]
    }
   ],
   "source": [
    "df = pd.DataFrame(doc_topic_matrix)\n",
    "df['style_name'] = [d['style_name'] for d in beer_reviews[0]]\n",
    "df['top_topic'] = get_top_topic(model, doc_topic_matrix)\n",
    "\n",
    "print(pd.crosstab(df['style_name'], df['top_topic']))"
   ]
  },
  {
   "cell_type": "code",
   "execution_count": 270,
   "metadata": {},
   "outputs": [
    {
     "data": {
      "image/png": "[encoded data removed]",
      "text/plain": [
       "<matplotlib.figure.Figure at 0x1bed456a0>"
      ]
     },
     "metadata": {},
     "output_type": "display_data"
    }
   ],
   "source": [
    "ct = pd.crosstab(df['top_topic'], df['style_name'])\n",
    "ct = ct.apply(lambda r: r / r.sum(), axis=1)\n",
    "\n",
    "beer_plot = ct.plot.bar(stacked=True, color=['#ead61c', '#845422'],\n",
    "                        edgecolor='none', lw=2, rot=0, figsize=(7, 6))\n",
    "beer_plot.set_xlabel('Topic')\n",
    "beer_plot.set_ylabel('Frequency (%)')\n",
    "beer_plot.legend(bbox_to_anchor=(1.12, 1.12))\n",
    "\n",
    "plt.show()"
   ]
  },
  {
   "cell_type": "markdown",
   "metadata": {},
   "source": [
    "### Some Outputs for proper plots with R"
   ]
  },
  {
   "cell_type": "code",
   "execution_count": 275,
   "metadata": {
    "collapsed": true
   },
   "outputs": [],
   "source": [
    "ct.to_csv(data_path + '2_styles_top_topic_xtab.csv')\n",
    "df.to_csv(data_path + '2_styles_doc_topic_matrix.csv')"
   ]
  },
  {
   "cell_type": "markdown",
   "metadata": {},
   "source": [
    "### Clustering k-means"
   ]
  },
  {
   "cell_type": "code",
   "execution_count": 281,
   "metadata": {},
   "outputs": [
    {
     "ename": "ImportError",
     "evalue": "cannot import name 'check_memory'",
     "output_type": "error",
     "traceback": [
      "\u001b[0;31m---------------------------------------------------------------------------\u001b[0m",
      "\u001b[0;31mImportError\u001b[0m                               Traceback (most recent call last)",
      "\u001b[0;32m<ipython-input-281-63cb0798864d>\u001b[0m in \u001b[0;36m<module>\u001b[0;34m()\u001b[0m\n\u001b[0;32m----> 1\u001b[0;31m \u001b[0;32mfrom\u001b[0m \u001b[0msklearn\u001b[0m\u001b[0;34m.\u001b[0m\u001b[0mcluster\u001b[0m \u001b[0;32mimport\u001b[0m \u001b[0mKMeans\u001b[0m\u001b[0;34m\u001b[0m\u001b[0m\n\u001b[0m\u001b[1;32m      2\u001b[0m \u001b[0;34m\u001b[0m\u001b[0m\n\u001b[1;32m      3\u001b[0m \u001b[0mkm\u001b[0m \u001b[0;34m=\u001b[0m \u001b[0mKMeans\u001b[0m\u001b[0;34m(\u001b[0m\u001b[0mn_clusters\u001b[0m\u001b[0;34m=\u001b[0m\u001b[0;36m2\u001b[0m\u001b[0;34m)\u001b[0m\u001b[0;34m\u001b[0m\u001b[0m\n\u001b[1;32m      4\u001b[0m \u001b[0mkm\u001b[0m\u001b[0;34m.\u001b[0m\u001b[0mfit\u001b[0m\u001b[0;34m(\u001b[0m\u001b[0mdoc_topic_matrix\u001b[0m\u001b[0;34m)\u001b[0m\u001b[0;34m\u001b[0m\u001b[0m\n\u001b[1;32m      5\u001b[0m \u001b[0mclusters\u001b[0m \u001b[0;34m=\u001b[0m \u001b[0mkm\u001b[0m\u001b[0;34m.\u001b[0m\u001b[0mlabels_\u001b[0m\u001b[0;34m.\u001b[0m\u001b[0mtolist\u001b[0m\u001b[0;34m(\u001b[0m\u001b[0;34m)\u001b[0m\u001b[0;34m\u001b[0m\u001b[0m\n",
      "\u001b[0;32m/Users/eb/.pyenv/versions/3.6.1/lib/python3.6/site-packages/sklearn/cluster/__init__.py\u001b[0m in \u001b[0;36m<module>\u001b[0;34m()\u001b[0m\n\u001b[1;32m      8\u001b[0m                           estimate_bandwidth, get_bin_seeds)\n\u001b[1;32m      9\u001b[0m \u001b[0;32mfrom\u001b[0m \u001b[0;34m.\u001b[0m\u001b[0maffinity_propagation_\u001b[0m \u001b[0;32mimport\u001b[0m \u001b[0maffinity_propagation\u001b[0m\u001b[0;34m,\u001b[0m \u001b[0mAffinityPropagation\u001b[0m\u001b[0;34m\u001b[0m\u001b[0m\n\u001b[0;32m---> 10\u001b[0;31m from .hierarchical import (ward_tree, AgglomerativeClustering, linkage_tree,\n\u001b[0m\u001b[1;32m     11\u001b[0m                            FeatureAgglomeration)\n\u001b[1;32m     12\u001b[0m \u001b[0;32mfrom\u001b[0m \u001b[0;34m.\u001b[0m\u001b[0mk_means_\u001b[0m \u001b[0;32mimport\u001b[0m \u001b[0mk_means\u001b[0m\u001b[0;34m,\u001b[0m \u001b[0mKMeans\u001b[0m\u001b[0;34m,\u001b[0m \u001b[0mMiniBatchKMeans\u001b[0m\u001b[0;34m\u001b[0m\u001b[0m\n",
      "\u001b[0;32m/Users/eb/.pyenv/versions/3.6.1/lib/python3.6/site-packages/sklearn/cluster/hierarchical.py\u001b[0m in \u001b[0;36m<module>\u001b[0;34m()\u001b[0m\n\u001b[1;32m     19\u001b[0m \u001b[0;32mfrom\u001b[0m \u001b[0;34m.\u001b[0m\u001b[0;34m.\u001b[0m\u001b[0mmetrics\u001b[0m\u001b[0;34m.\u001b[0m\u001b[0mpairwise\u001b[0m \u001b[0;32mimport\u001b[0m \u001b[0mpaired_distances\u001b[0m\u001b[0;34m,\u001b[0m \u001b[0mpairwise_distances\u001b[0m\u001b[0;34m\u001b[0m\u001b[0m\n\u001b[1;32m     20\u001b[0m \u001b[0;32mfrom\u001b[0m \u001b[0;34m.\u001b[0m\u001b[0;34m.\u001b[0m\u001b[0mutils\u001b[0m \u001b[0;32mimport\u001b[0m \u001b[0mcheck_array\u001b[0m\u001b[0;34m\u001b[0m\u001b[0m\n\u001b[0;32m---> 21\u001b[0;31m \u001b[0;32mfrom\u001b[0m \u001b[0;34m.\u001b[0m\u001b[0;34m.\u001b[0m\u001b[0mutils\u001b[0m\u001b[0;34m.\u001b[0m\u001b[0mvalidation\u001b[0m \u001b[0;32mimport\u001b[0m \u001b[0mcheck_memory\u001b[0m\u001b[0;34m\u001b[0m\u001b[0m\n\u001b[0m\u001b[1;32m     22\u001b[0m \u001b[0;34m\u001b[0m\u001b[0m\n\u001b[1;32m     23\u001b[0m \u001b[0;32mfrom\u001b[0m \u001b[0;34m.\u001b[0m \u001b[0;32mimport\u001b[0m \u001b[0m_hierarchical\u001b[0m\u001b[0;34m\u001b[0m\u001b[0m\n",
      "\u001b[0;31mImportError\u001b[0m: cannot import name 'check_memory'"
     ]
    }
   ],
   "source": [
    "from sklearn.cluster import KMeans\n",
    "\n",
    "km = KMeans(n_clusters=2)\n",
    "km.fit(doc_topic_matrix)\n",
    "clusters = km.labels_.tolist()"
   ]
  }
 ],
 "metadata": {
  "kernelspec": {
   "display_name": "Python 3",
   "language": "python",
   "name": "python3"
  },
  "language_info": {
   "codemirror_mode": {
    "name": "ipython",
    "version": 3
   },
   "file_extension": ".py",
   "mimetype": "text/x-python",
   "name": "python",
   "nbconvert_exporter": "python",
   "pygments_lexer": "ipython3",
   "version": "3.6.1"
  }
 },
 "nbformat": 4,
 "nbformat_minor": 2
}
