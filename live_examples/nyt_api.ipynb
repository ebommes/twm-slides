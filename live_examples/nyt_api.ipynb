{
 "cells": [
  {
   "cell_type": "code",
   "execution_count": 53,
   "metadata": {},
   "outputs": [],
   "source": [
    "import json\n",
    "\n",
    "key_path = '/Users/eb/Google Drive/Research/text_words_meaning/twm-slides/live_examples/keys.json'\n",
    "keys = json.load(open(key_path))\n",
    "\n",
    "# format: {'nyt': {'article': 'key1', 'semantics': 'key2'}}"
   ]
  },
  {
   "cell_type": "markdown",
   "metadata": {
    "slideshow": {
     "slide_type": "slide"
    }
   },
   "source": [
    "### Keyword Search"
   ]
  },
  {
   "cell_type": "code",
   "execution_count": 35,
   "metadata": {},
   "outputs": [],
   "source": [
    "import requests\n",
    "api_link = 'http://api.nytimes.com/svc/search/v2/articlesearch.json'\n",
    "query = 'Beer'\n",
    "r = requests.get(\"%s?q=%s&api-key=%s\" %\n",
    "                 (api_link, query, keys['nyt']['article']))\n",
    "r = r.json()['response']['docs']"
   ]
  },
  {
   "cell_type": "code",
   "execution_count": 36,
   "metadata": {
    "scrolled": false,
    "slideshow": {
     "slide_type": "slide"
    }
   },
   "outputs": [
    {
     "data": {
      "text/plain": [
       "{'_id': '59d6768e7c459f246b62cd38',\n",
       " 'blog': {},\n",
       " 'byline': {'original': 'By BRIAN KEVIN'},\n",
       " 'document_type': 'article',\n",
       " 'headline': {'main': 'An Old Beer Learns New Tricks, and Risks an Identity Crisis',\n",
       "  'print_headline': 'New Tricks Make for a Strange Brew'},\n",
       " 'keywords': [{'isMajor': 'N', 'name': 'subject', 'rank': 1, 'value': 'Beer'},\n",
       "  {'isMajor': 'N', 'name': 'glocations', 'rank': 2, 'value': 'Wisconsin'},\n",
       "  {'isMajor': 'N',\n",
       "   'name': 'organizations',\n",
       "   'rank': 3,\n",
       "   'value': 'Molson Coors Brewing Company'}],\n",
       " 'multimedia': [{'height': 400,\n",
       "   'legacy': {'xlarge': 'images/2017/10/11/dining/11BEER-slide-BB38/11BEER-slide-BB38-articleLarge.jpg',\n",
       "    'xlargeheight': 400,\n",
       "    'xlargewidth': 600},\n",
       "   'rank': 0,\n",
       "   'subtype': 'xlarge',\n",
       "   'type': 'image',\n",
       "   'url': 'images/2017/10/11/dining/11BEER-slide-BB38/11BEER-slide-BB38-articleLarge.jpg',\n",
       "   'width': 600},\n",
       "  {'height': 126,\n",
       "   'legacy': {'wide': 'images/2017/10/11/dining/11BEER-slide-BB38/11BEER-slide-BB38-thumbWide.jpg',\n",
       "    'wideheight': 126,\n",
       "    'widewidth': 190},\n",
       "   'rank': 0,\n",
       "   'subtype': 'wide',\n",
       "   'type': 'image',\n",
       "   'url': 'images/2017/10/11/dining/11BEER-slide-BB38/11BEER-slide-BB38-thumbWide.jpg',\n",
       "   'width': 190},\n",
       "  {'height': 75,\n",
       "   'legacy': {'thumbnail': 'images/2017/10/11/dining/11BEER-slide-BB38/11BEER-slide-BB38-thumbStandard.jpg',\n",
       "    'thumbnailheight': 75,\n",
       "    'thumbnailwidth': 75},\n",
       "   'rank': 0,\n",
       "   'subtype': 'thumbnail',\n",
       "   'type': 'image',\n",
       "   'url': 'images/2017/10/11/dining/11BEER-slide-BB38/11BEER-slide-BB38-thumbStandard.jpg',\n",
       "   'width': 75}],\n",
       " 'new_desk': 'Dining',\n",
       " 'print_page': '7',\n",
       " 'pub_date': '2017-10-05T18:14:23+0000',\n",
       " 'score': 4.7342453,\n",
       " 'section_name': 'Wine, Beer & Cocktails',\n",
       " 'snippet': 'Leinenkugel’s, a hallowed Wisconsin beer, has scored a hit with sweet shandies — and, like many midsize brewers, divided its audience.',\n",
       " 'source': 'The New York Times',\n",
       " 'type_of_material': 'News',\n",
       " 'uri': 'nyt://article/6024599b-0b8f-5f52-87b8-5a7fae30482e',\n",
       " 'web_url': 'https://www.nytimes.com/2017/10/05/dining/leinenkugel-beer-wisconsin.html',\n",
       " 'word_count': 1177}"
      ]
     },
     "execution_count": 36,
     "metadata": {},
     "output_type": "execute_result"
    }
   ],
   "source": [
    "r[3]"
   ]
  },
  {
   "cell_type": "markdown",
   "metadata": {
    "slideshow": {
     "slide_type": "slide"
    }
   },
   "source": [
    "### Headline and Snippet"
   ]
  },
  {
   "cell_type": "code",
   "execution_count": 47,
   "metadata": {
    "slideshow": {
     "slide_type": "-"
    }
   },
   "outputs": [
    {
     "name": "stdout",
     "output_type": "stream",
     "text": [
      "An Old Beer Learns New Tricks, and Risks an Identity Crisis\n",
      "Leinenkugel’s, a hallowed Wisconsin beer, has scored a hit with sweet shandies — and, like many midsize brewers, divided its audience.\n"
     ]
    }
   ],
   "source": [
    "print(r[3]['headline']['main'])\n",
    "print(r[3]['snippet'])"
   ]
  },
  {
   "cell_type": "markdown",
   "metadata": {
    "slideshow": {
     "slide_type": "slide"
    }
   },
   "source": [
    "### Filter for Dates"
   ]
  },
  {
   "cell_type": "code",
   "execution_count": 33,
   "metadata": {},
   "outputs": [
    {
     "data": {
      "text/plain": [
       "'2000-08-03T00:00:00Z'"
      ]
     },
     "execution_count": 33,
     "metadata": {},
     "output_type": "execute_result"
    }
   ],
   "source": [
    "query = 'Beer'\n",
    "begin_date = '20000101'\n",
    "end_date = '20010101'\n",
    "search_string = '%s?q=%s&api-key=%s&begin_date=%s&end_date=%s'\n",
    "\n",
    "r = requests.get(search_string %\n",
    "                 (api_link, query, keys['nyt']['article'],\n",
    "                  begin_date, end_date))\n",
    "r = r.json()['response']['docs']\n",
    "r[1]['pub_date']"
   ]
  },
  {
   "cell_type": "markdown",
   "metadata": {
    "slideshow": {
     "slide_type": "slide"
    }
   },
   "source": [
    "### Combine with Semantics API"
   ]
  },
  {
   "cell_type": "code",
   "execution_count": 76,
   "metadata": {},
   "outputs": [],
   "source": [
    "nytd_geo = {'isMajor': 'N',\n",
    "            'name': 'glocations',\n",
    "            'rank': 2,\n",
    "            'value': 'Wisconsin'}\n",
    "api_link = 'http://api.nytimes.com/svc/semantic/v2/concept/name/'\n",
    "\n",
    "search_string = '%s%s/%s.json?fields=all&api-key=%s'\n",
    "query = search_string % (api_link, 'nytd_geo',\n",
    "                         nytd_geo['value'], keys['nyt']['semantics'])\n",
    "r = requests.get(query)\n",
    "r = r.json()['results']"
   ]
  },
  {
   "cell_type": "markdown",
   "metadata": {
    "slideshow": {
     "slide_type": "slide"
    }
   },
   "source": [
    "### Geo Data"
   ]
  },
  {
   "cell_type": "code",
   "execution_count": 89,
   "metadata": {},
   "outputs": [
    {
     "data": {
      "text/plain": [
       "[{'admin_code1': 'WI',\n",
       "  'admin_code2': 'None',\n",
       "  'admin_code3': 'None',\n",
       "  'admin_code4': 'None',\n",
       "  'admin_name1': 'Wisconsin',\n",
       "  'admin_name2': 'None',\n",
       "  'admin_name3': 'None',\n",
       "  'admin_name4': 'None',\n",
       "  'concept_id': 30312,\n",
       "  'concept_name': 'Wisconsin',\n",
       "  'concept_status': 'Active',\n",
       "  'concepts_geocodes_created': '2013-02-25 15:10:12-05:00',\n",
       "  'concepts_geocodes_updated': '2013-02-25 15:10:12-05:00',\n",
       "  'country_code': 'US',\n",
       "  'country_name': 'United States',\n",
       "  'dst_offset': '1969-12-31 18:59:55-05:00',\n",
       "  'elevation': 340,\n",
       "  'feature_class': 'A',\n",
       "  'feature_code': 'ADM1',\n",
       "  'feature_code_name': 'first-order administrative division',\n",
       "  'geocode_id': 428,\n",
       "  'geoname_id': 5279468,\n",
       "  'gmt_offset': '1969-12-31 18:59:54-05:00',\n",
       "  'is_times_tag': 1,\n",
       "  'latitude': 44.500237,\n",
       "  'longitude': -90.000408,\n",
       "  'name': 'Wisconsin',\n",
       "  'time_zone_id': 'America/Menominee'}]"
      ]
     },
     "execution_count": 89,
     "metadata": {},
     "output_type": "execute_result"
    }
   ],
   "source": [
    "r[0]['geocodes']"
   ]
  },
  {
   "cell_type": "markdown",
   "metadata": {
    "slideshow": {
     "slide_type": "slide"
    }
   },
   "source": [
    "### Knowledge Graph Links"
   ]
  },
  {
   "cell_type": "code",
   "execution_count": 84,
   "metadata": {
    "scrolled": true
   },
   "outputs": [
    {
     "data": {
      "text/plain": [
       "['Wisconsin',\n",
       " 'http://rdf.freebase.com/ns/en.wisconsin',\n",
       " 'http://dbpedia.org/resource/Wisconsin']"
      ]
     },
     "execution_count": 84,
     "metadata": {},
     "output_type": "execute_result"
    }
   ],
   "source": [
    "[e['link'] for e in r[0]['links']]"
   ]
  }
 ],
 "metadata": {
  "celltoolbar": "Slideshow",
  "kernelspec": {
   "display_name": "Python 3",
   "language": "python",
   "name": "python3"
  },
  "language_info": {
   "codemirror_mode": {
    "name": "ipython",
    "version": 3
   },
   "file_extension": ".py",
   "mimetype": "text/x-python",
   "name": "python",
   "nbconvert_exporter": "python",
   "pygments_lexer": "ipython3",
   "version": "3.6.1"
  }
 },
 "nbformat": 4,
 "nbformat_minor": 2
}
